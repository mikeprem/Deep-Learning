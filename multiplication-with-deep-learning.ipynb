{
 "cells": [
  {
   "cell_type": "code",
   "execution_count": 26,
   "metadata": {},
   "outputs": [
    {
     "data": {
      "text/plain": [
       "(99999,)"
      ]
     },
     "execution_count": 26,
     "metadata": {},
     "output_type": "execute_result"
    }
   ],
   "source": [
    "import numpy as np\n",
    "from numpy import log,exp\n",
    "a=[]\n",
    "b=[]\n",
    "for i in range(1,100000):\n",
    "    a.append(list([log(i),log((i%10)+1)]))\n",
    "    b.append(log(i)-log((i%10)+1))\n",
    "a=np.array(a)\n",
    "a.shape\n",
    "b=np.array(b)\n",
    "b.shape"
   ]
  },
  {
   "cell_type": "code",
   "execution_count": 27,
   "metadata": {},
   "outputs": [
    {
     "name": "stdout",
     "output_type": "stream",
     "text": [
      "Epoch 1/4\n",
      "99999/99999 [==============================] - 7s 72us/step - loss: 13.4838 - MAE: 2.0207\n",
      "Epoch 2/4\n",
      "99999/99999 [==============================] - 7s 68us/step - loss: 0.1267 - MAE: 0.2345\n",
      "Epoch 3/4\n",
      "99999/99999 [==============================] - 7s 68us/step - loss: 0.0038 - MAE: 0.0437\n",
      "Epoch 4/4\n",
      "99999/99999 [==============================] - 7s 73us/step - loss: 4.8524e-04 - MAE: 0.0133\n"
     ]
    },
    {
     "data": {
      "text/plain": [
       "<keras.callbacks.callbacks.History at 0x26ff9ab0688>"
      ]
     },
     "execution_count": 27,
     "metadata": {},
     "output_type": "execute_result"
    }
   ],
   "source": [
    "import pandas as pd\n",
    "import numpy as np\n",
    "from keras.layers import Dense, Conv1D, Flatten\n",
    "from keras.models import Sequential\n",
    "from keras.layers import Dense, Activation, Dropout\n",
    "classifier = Sequential()\n",
    "classifier.add(Dense(units = 2,activation=\"linear\"))\n",
    "classifier.add(Dense(units = 1,activation=\"linear\"))\n",
    "classifier.compile(loss='mean_squared_error', optimizer='adam',metrics=['MAE'])\n",
    "\n",
    "# Train the model \n",
    "classifier.fit(a, b, epochs=4)\n"
   ]
  },
  {
   "cell_type": "code",
   "execution_count": 28,
   "metadata": {},
   "outputs": [
    {
     "name": "stdout",
     "output_type": "stream",
     "text": [
      "[[201.86296]]\n"
     ]
    }
   ],
   "source": [
    "test_output = classifier.predict(np.array([[log(1000),log(5)]]))\n",
    "print(exp(test_output))"
   ]
  },
  {
   "cell_type": "code",
   "execution_count": 5,
   "metadata": {},
   "outputs": [
    {
     "data": {
      "text/html": [
       "<div>\n",
       "<style scoped>\n",
       "    .dataframe tbody tr th:only-of-type {\n",
       "        vertical-align: middle;\n",
       "    }\n",
       "\n",
       "    .dataframe tbody tr th {\n",
       "        vertical-align: top;\n",
       "    }\n",
       "\n",
       "    .dataframe thead th {\n",
       "        text-align: right;\n",
       "    }\n",
       "</style>\n",
       "<table border=\"1\" class=\"dataframe\">\n",
       "  <thead>\n",
       "    <tr style=\"text-align: right;\">\n",
       "      <th></th>\n",
       "      <th>0</th>\n",
       "      <th>1</th>\n",
       "      <th>2</th>\n",
       "    </tr>\n",
       "  </thead>\n",
       "  <tbody>\n",
       "    <tr>\n",
       "      <th>0</th>\n",
       "      <td>1</td>\n",
       "      <td>2</td>\n",
       "      <td>3</td>\n",
       "    </tr>\n",
       "    <tr>\n",
       "      <th>1</th>\n",
       "      <td>4</td>\n",
       "      <td>5</td>\n",
       "      <td>6</td>\n",
       "    </tr>\n",
       "  </tbody>\n",
       "</table>\n",
       "</div>"
      ],
      "text/plain": [
       "   0  1  2\n",
       "0  1  2  3\n",
       "1  4  5  6"
      ]
     },
     "execution_count": 5,
     "metadata": {},
     "output_type": "execute_result"
    }
   ],
   "source": [
    "pd.DataFrame(a)"
   ]
  },
  {
   "cell_type": "code",
   "execution_count": 21,
   "metadata": {},
   "outputs": [
    {
     "data": {
      "text/plain": [
       "[<tf.Variable 'dense_9/kernel:0' shape=(2, 2) dtype=float32, numpy=\n",
       " array([[-0.10789055,  1.2892289 ],\n",
       "        [ 0.3290847 , -0.44023594]], dtype=float32)>,\n",
       " <tf.Variable 'dense_9/bias:0' shape=(2,) dtype=float32, numpy=array([-0.00225676, -0.01042785], dtype=float32)>]"
      ]
     },
     "execution_count": 21,
     "metadata": {},
     "output_type": "execute_result"
    }
   ],
   "source": [
    "classifier.layers[0].weights"
   ]
  }
 ],
 "metadata": {
  "kernelspec": {
   "display_name": "Python 3",
   "language": "python",
   "name": "python3"
  },
  "language_info": {
   "codemirror_mode": {
    "name": "ipython",
    "version": 3
   },
   "file_extension": ".py",
   "mimetype": "text/x-python",
   "name": "python",
   "nbconvert_exporter": "python",
   "pygments_lexer": "ipython3",
   "version": "3.7.4"
  }
 },
 "nbformat": 4,
 "nbformat_minor": 2
}
